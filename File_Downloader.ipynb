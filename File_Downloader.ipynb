{
  "cells": [
    {
      "cell_type": "markdown",
      "metadata": {
        "id": "view-in-github",
        "colab_type": "text"
      },
      "source": [
        "<a href=\"https://colab.research.google.com/github/naveennuwantha/file_downloader/blob/main/File_Downloader.ipynb\" target=\"_parent\"><img src=\"https://colab.research.google.com/assets/colab-badge.svg\" alt=\"Open In Colab\"/></a>"
      ]
    },
    {
      "cell_type": "code",
      "execution_count": null,
      "metadata": {
        "colab": {
          "base_uri": "https://localhost:8080/"
        },
        "id": "rksSqzkF-omC",
        "outputId": "716bcec8-d3aa-4d7d-f62c-af7ddf2220d7"
      },
      "outputs": [
        {
          "output_type": "stream",
          "name": "stdout",
          "text": [
            "Drive already mounted at /content/drive; to attempt to forcibly remount, call drive.mount(\"/content/drive\", force_remount=True).\n"
          ]
        }
      ],
      "source": [
        "from google.colab import drive\n",
        "drive.mount(\"/content/drive\")"
      ]
    },
    {
      "cell_type": "code",
      "execution_count": null,
      "metadata": {
        "colab": {
          "base_uri": "https://localhost:8080/"
        },
        "id": "KqMvkQvO_-Qz",
        "outputId": "671f5346-7238-4b6f-ab0c-54bbfac6d872"
      },
      "outputs": [
        {
          "output_type": "stream",
          "name": "stdout",
          "text": [
            "Requirement already satisfied: requests in /usr/local/lib/python3.10/dist-packages (2.31.0)\n",
            "Requirement already satisfied: charset-normalizer<4,>=2 in /usr/local/lib/python3.10/dist-packages (from requests) (3.3.2)\n",
            "Requirement already satisfied: idna<4,>=2.5 in /usr/local/lib/python3.10/dist-packages (from requests) (3.7)\n",
            "Requirement already satisfied: urllib3<3,>=1.21.1 in /usr/local/lib/python3.10/dist-packages (from requests) (2.0.7)\n",
            "Requirement already satisfied: certifi>=2017.4.17 in /usr/local/lib/python3.10/dist-packages (from requests) (2024.2.2)\n",
            "Requirement already satisfied: tqdm in /usr/local/lib/python3.10/dist-packages (4.66.4)\n"
          ]
        }
      ],
      "source": [
        "!pip install requests\n",
        "!pip install tqdm\n",
        "from tqdm import tqdm\n",
        "import os\n",
        "import sys\n",
        "from pathlib import Path\n",
        "import requests\n",
        "\n",
        "def download(url):\n",
        "  try:\n",
        "    filesize = int(requests.head(url).headers[\"Content-Length\"])\n",
        "    filename = os.path.basename(url)\n",
        "    print(filesize,filename)\n",
        "    home_path = Path.home()\n",
        "    home_path = \"/content/drive/MyDrive\"\n",
        "    sub_path = \"Downloader\"\n",
        "    os.makedirs(os.path.join(home_path, sub_path), exist_ok=True)\n",
        "    dl_path = os.path.join(home_path, sub_path, filename)\n",
        "    chunk_size = 1024\n",
        "    with requests.get(url, stream=True) as r, open(dl_path, \"wb\") as f, tqdm(\n",
        "            unit=\"B\",\n",
        "            unit_scale=True,\n",
        "            unit_divisor=1024,\n",
        "            total=filesize,\n",
        "            file=sys.stdout,\n",
        "            desc=filename\n",
        "    ) as progress:\n",
        "        for chunk in r.iter_content(chunk_size=chunk_size):\n",
        "            datasize = f.write(chunk)\n",
        "            progress.update(datasize)\n",
        "  except:\n",
        "    pass"
      ]
    },
    {
      "cell_type": "code",
      "execution_count": null,
      "metadata": {
        "id": "bkHTw203AWwW",
        "colab": {
          "base_uri": "https://localhost:8080/"
        },
        "outputId": "ce8c4740-3de7-48b1-f662-f2d25e2cc2cb"
      },
      "outputs": [
        {
          "name": "stdout",
          "output_type": "stream",
          "text": [
            "Enter file URL : https://bravelion-sto.energycdn.com/dl/XAZEOptfFOxwT_3R3hCn7Q/1715973633/524299512/5d816b578dcfc0.95092266/fg-01.bin\n",
            "Enter file URL : https://gentlegiraffe-sto.energycdn.com/dl/2gN9EGB85VXbh8HIiTOV2A/1715973633/524299512/5d816c78af0cf4.19927059/fg-optional-multiplayer.bin\n",
            "Enter file URL : exit\n"
          ]
        }
      ],
      "source": [
        "urls = []\n",
        "while True:\n",
        "  url = input(\"Enter file URL : \")\n",
        "  if url.lower()!=\"exit\":\n",
        "    urls.append(url)\n",
        "  else:\n",
        "    break"
      ]
    },
    {
      "cell_type": "code",
      "execution_count": null,
      "metadata": {
        "id": "5P955UmdAbSp",
        "colab": {
          "base_uri": "https://localhost:8080/"
        },
        "outputId": "7e0f523d-8b7e-49d2-e40a-94ed96d919f3"
      },
      "outputs": [
        {
          "output_type": "stream",
          "name": "stdout",
          "text": [
            "15113800756 fg-01.bin\n",
            "fg-01.bin: 100%|██████████| 14.1G/14.1G [10:36<00:00, 23.8MB/s]\n",
            "11373594383 fg-optional-multiplayer.bin\n",
            "fg-optional-multiplayer.bin: 100%|██████████| 10.6G/10.6G [08:38<00:00, 21.9MB/s]\n"
          ]
        }
      ],
      "source": [
        " for url in urls:\n",
        "  download(url)"
      ]
    }
  ],
  "metadata": {
    "colab": {
      "provenance": [],
      "authorship_tag": "ABX9TyOs+ei6ozoR03cs9o2fqhz7",
      "include_colab_link": true
    },
    "kernelspec": {
      "display_name": "Python 3",
      "name": "python3"
    },
    "language_info": {
      "name": "python"
    }
  },
  "nbformat": 4,
  "nbformat_minor": 0
}